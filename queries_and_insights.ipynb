{
 "cells": [
  {
   "cell_type": "code",
   "execution_count": 1,
   "id": "af34a644",
   "metadata": {},
   "outputs": [],
   "source": [
    "import json\n",
    "import pandas as pd\n",
    "from sqlalchemy import create_engine"
   ]
  },
  {
   "cell_type": "code",
   "execution_count": 2,
   "id": "f216848c",
   "metadata": {},
   "outputs": [],
   "source": [
    "# Conectar ao banco covid_etl\n",
    "\n",
    "\n",
    "# Carregar configurações de conexão\n",
    "with open('../config.json', 'r') as config_file:\n",
    "    config = json.load(config_file)\n",
    "\n",
    "# Criar engine SQLAlchemy\n",
    "engine = create_engine(\n",
    "    f'postgresql+psycopg2://{config[\"user\"]}:{config[\"password\"]}@{config[\"host\"]}:{config[\"port\"]}/covid_etl'\n",
    ")\n"
   ]
  },
  {
   "cell_type": "code",
   "execution_count": 3,
   "id": "21cc7a0c",
   "metadata": {},
   "outputs": [],
   "source": [
    "# criando função que fará as consultas e retorna o dataframe\n",
    "def get_dataframe(query):\n",
    "    df = pd.read_sql(query, engine)\n",
    "    return df\n"
   ]
  },
  {
   "cell_type": "code",
   "execution_count": 18,
   "id": "d1c68677",
   "metadata": {},
   "outputs": [
    {
     "data": {
      "text/html": [
       "<div>\n",
       "<style scoped>\n",
       "    .dataframe tbody tr th:only-of-type {\n",
       "        vertical-align: middle;\n",
       "    }\n",
       "\n",
       "    .dataframe tbody tr th {\n",
       "        vertical-align: top;\n",
       "    }\n",
       "\n",
       "    .dataframe thead th {\n",
       "        text-align: right;\n",
       "    }\n",
       "</style>\n",
       "<table border=\"1\" class=\"dataframe\">\n",
       "  <thead>\n",
       "    <tr style=\"text-align: right;\">\n",
       "      <th></th>\n",
       "      <th>idade (anos)</th>\n",
       "      <th>grupo</th>\n",
       "      <th>data_vacinacao</th>\n",
       "      <th>fabricante</th>\n",
       "    </tr>\n",
       "  </thead>\n",
       "  <tbody>\n",
       "    <tr>\n",
       "      <th>0</th>\n",
       "      <td>49</td>\n",
       "      <td>TRABALHADORES DA SAÚDE</td>\n",
       "      <td>2022-02-23</td>\n",
       "      <td>PFIZER</td>\n",
       "    </tr>\n",
       "    <tr>\n",
       "      <th>1</th>\n",
       "      <td>28</td>\n",
       "      <td>PÚBLICO EM GERAL (18 a 59 anos)</td>\n",
       "      <td>2022-04-30</td>\n",
       "      <td>PFIZER</td>\n",
       "    </tr>\n",
       "    <tr>\n",
       "      <th>2</th>\n",
       "      <td>60</td>\n",
       "      <td>IDOSOS</td>\n",
       "      <td>2022-05-12</td>\n",
       "      <td>PFIZER</td>\n",
       "    </tr>\n",
       "    <tr>\n",
       "      <th>3</th>\n",
       "      <td>46</td>\n",
       "      <td>PÚBLICO EM GERAL (18 a 59 anos)</td>\n",
       "      <td>2022-05-15</td>\n",
       "      <td>PFIZER</td>\n",
       "    </tr>\n",
       "    <tr>\n",
       "      <th>4</th>\n",
       "      <td>34</td>\n",
       "      <td>TRABALHADORES DA SAÚDE</td>\n",
       "      <td>2022-06-15</td>\n",
       "      <td>PFIZER</td>\n",
       "    </tr>\n",
       "  </tbody>\n",
       "</table>\n",
       "</div>"
      ],
      "text/plain": [
       "   idade (anos)                            grupo data_vacinacao fabricante\n",
       "0            49           TRABALHADORES DA SAÚDE     2022-02-23     PFIZER\n",
       "1            28  PÚBLICO EM GERAL (18 a 59 anos)     2022-04-30     PFIZER\n",
       "2            60                           IDOSOS     2022-05-12     PFIZER\n",
       "3            46  PÚBLICO EM GERAL (18 a 59 anos)     2022-05-15     PFIZER\n",
       "4            34           TRABALHADORES DA SAÚDE     2022-06-15     PFIZER"
      ]
     },
     "execution_count": 18,
     "metadata": {},
     "output_type": "execute_result"
    }
   ],
   "source": [
    "# CONSULTANDO QUANTAS PESSOAS TOMARAM DOSE INFANTIL (PEDIÁTRICA) RELACIONANDO COM VACINA_LOTE\n",
    "query = '''\n",
    "SELECT \n",
    "    \"idade (anos)\", grupo, data_vacinacao, fabricante\n",
    "FROM analytics.pessoas_vacinadas pv\n",
    "JOIN analytics.vacina_lote vl ON pv.lote = vl.lote\n",
    "WHERE vl.pediatrica = TRUE and pv.\"idade (anos)\" > 13;\n",
    "'''\n",
    "get_dataframe(query).head()"
   ]
  },
  {
   "cell_type": "code",
   "execution_count": 20,
   "id": "89011b09",
   "metadata": {},
   "outputs": [
    {
     "data": {
      "text/html": [
       "<div>\n",
       "<style scoped>\n",
       "    .dataframe tbody tr th:only-of-type {\n",
       "        vertical-align: middle;\n",
       "    }\n",
       "\n",
       "    .dataframe tbody tr th {\n",
       "        vertical-align: top;\n",
       "    }\n",
       "\n",
       "    .dataframe thead th {\n",
       "        text-align: right;\n",
       "    }\n",
       "</style>\n",
       "<table border=\"1\" class=\"dataframe\">\n",
       "  <thead>\n",
       "    <tr style=\"text-align: right;\">\n",
       "      <th></th>\n",
       "      <th>total_vacinados_pediatrica</th>\n",
       "      <th>total_criancas</th>\n",
       "      <th>total_nao_criancas</th>\n",
       "      <th>percentual_criancas</th>\n",
       "    </tr>\n",
       "  </thead>\n",
       "  <tbody>\n",
       "    <tr>\n",
       "      <th>0</th>\n",
       "      <td>42</td>\n",
       "      <td>12</td>\n",
       "      <td>30</td>\n",
       "      <td>28.57</td>\n",
       "    </tr>\n",
       "  </tbody>\n",
       "</table>\n",
       "</div>"
      ],
      "text/plain": [
       "   total_vacinados_pediatrica  total_criancas  total_nao_criancas  \\\n",
       "0                          42              12                  30   \n",
       "\n",
       "   percentual_criancas  \n",
       "0                28.57  "
      ]
     },
     "execution_count": 20,
     "metadata": {},
     "output_type": "execute_result"
    }
   ],
   "source": [
    "# CONSULTANDO QUANTAS PESSOAS TOMARAM DOSE INFANTIL (PEDIÁTRICA) RELACIONANDO COM VACINA_LOTE\n",
    "query = '''\n",
    "SELECT\n",
    "  COUNT(*) AS total_vacinados_pediatrica,\n",
    "  SUM(CASE WHEN pv.\"idade (anos)\" <= 13 THEN 1 ELSE 0 END) AS total_criancas,\n",
    "  SUM(CASE WHEN pv.\"idade (anos)\" > 13 THEN 1 ELSE 0 END) AS total_nao_criancas,\n",
    "  ROUND(\n",
    "    100.0 * SUM(CASE WHEN pv.\"idade (anos)\" <= 13 THEN 1 ELSE 0 END) / COUNT(*),\n",
    "    2\n",
    "  ) AS percentual_criancas\n",
    "FROM analytics.pessoas_vacinadas pv\n",
    "JOIN analytics.vacina_lote vl ON pv.lote = vl.lote\n",
    "WHERE vl.pediatrica = TRUE;\n",
    "'''\n",
    "get_dataframe(query).head()"
   ]
  },
  {
   "cell_type": "markdown",
   "id": "ff877ec3",
   "metadata": {},
   "source": [
    "Insight: Doses pediátricas foram registradas como aplicadas em adultos, indicando possível erro de registro ou classificação de lote.\n",
    "\n",
    "-  Mais de 70% das doses pediátricas foram aplicadas em pessoas fora da faixa etária infantil\n",
    "\n",
    "- Dos 42 registros de vacinas pediátricas, apenas 12 foram aplicados em crianças (≤13 anos), o que representa 28,57% do total. Os outros 30 registros (71,43%) correspondem a pessoas com mais de 13 anos, o que indica uma inconsistência relevante no uso ou registro dos lotes pediátricos.\n",
    "\n",
    "- A análise identificou que doses classificadas como pediátricas (pediatrica = TRUE) foram aplicadas em pessoas com mais de 13 anos, incluindo adultos com idades entre 28 e 60 anos. Isso é incompatível com a indicação da vacina pediátrica, que é destinada a crianças, normalmente até 11 ou 12 anos."
   ]
  },
  {
   "cell_type": "code",
   "execution_count": 5,
   "id": "b4ae03fc",
   "metadata": {},
   "outputs": [
    {
     "data": {
      "text/html": [
       "<div>\n",
       "<style scoped>\n",
       "    .dataframe tbody tr th:only-of-type {\n",
       "        vertical-align: middle;\n",
       "    }\n",
       "\n",
       "    .dataframe tbody tr th {\n",
       "        vertical-align: top;\n",
       "    }\n",
       "\n",
       "    .dataframe thead th {\n",
       "        text-align: right;\n",
       "    }\n",
       "</style>\n",
       "<table border=\"1\" class=\"dataframe\">\n",
       "  <thead>\n",
       "    <tr style=\"text-align: right;\">\n",
       "      <th></th>\n",
       "      <th>sexo</th>\n",
       "      <th>total</th>\n",
       "      <th>percentual</th>\n",
       "    </tr>\n",
       "  </thead>\n",
       "  <tbody>\n",
       "    <tr>\n",
       "      <th>0</th>\n",
       "      <td></td>\n",
       "      <td>1</td>\n",
       "      <td>0.00</td>\n",
       "    </tr>\n",
       "    <tr>\n",
       "      <th>1</th>\n",
       "      <td>OUTROS</td>\n",
       "      <td>90</td>\n",
       "      <td>0.12</td>\n",
       "    </tr>\n",
       "    <tr>\n",
       "      <th>2</th>\n",
       "      <td>M</td>\n",
       "      <td>36281</td>\n",
       "      <td>49.03</td>\n",
       "    </tr>\n",
       "    <tr>\n",
       "      <th>3</th>\n",
       "      <td>F</td>\n",
       "      <td>37624</td>\n",
       "      <td>50.85</td>\n",
       "    </tr>\n",
       "  </tbody>\n",
       "</table>\n",
       "</div>"
      ],
      "text/plain": [
       "     sexo  total  percentual\n",
       "0              1        0.00\n",
       "1  OUTROS     90        0.12\n",
       "2       M  36281       49.03\n",
       "3       F  37624       50.85"
      ]
     },
     "execution_count": 5,
     "metadata": {},
     "output_type": "execute_result"
    }
   ],
   "source": [
    "# CONSULTANDO PERCENTUAL DE VACINADOS POR SEXO\n",
    "query = '''\n",
    "SELECT \n",
    "    sexo,\n",
    "    COUNT(*) AS total,\n",
    "    ROUND(100.0 * COUNT(*) / SUM(COUNT(*)) OVER (), 2) AS percentual\n",
    "FROM analytics.pessoas_vacinadas\n",
    "GROUP BY sexo\n",
    "'''\n",
    "get_dataframe(query).head()"
   ]
  },
  {
   "cell_type": "markdown",
   "id": "cb246b91",
   "metadata": {},
   "source": [
    "Insight: A distribuição por sexo entre os vacinados está dentro do esperado, com leve predominância feminina.\n",
    "- Mulheres representam 50,85% dos vacinados, enquanto homens representam 49,03%, o que configura uma distribuição equilibrada e dentro da normalidade. Esse leve predomínio feminino é comum em campanhas de vacinação, refletindo tanto a maior presença de mulheres em setores essenciais quanto uma tendência histórica de maior adesão à saúde preventiva.\n",
    "\n",
    "- O percentual de registros em branco ou com classificação \"OUTROS\" é muito baixo (apenas 0,12%), o que indica boa qualidade na coleta dos dados de sexo."
   ]
  },
  {
   "cell_type": "code",
   "execution_count": 7,
   "id": "8c023f0a",
   "metadata": {},
   "outputs": [
    {
     "data": {
      "text/html": [
       "<div>\n",
       "<style scoped>\n",
       "    .dataframe tbody tr th:only-of-type {\n",
       "        vertical-align: middle;\n",
       "    }\n",
       "\n",
       "    .dataframe tbody tr th {\n",
       "        vertical-align: top;\n",
       "    }\n",
       "\n",
       "    .dataframe thead th {\n",
       "        text-align: right;\n",
       "    }\n",
       "</style>\n",
       "<table border=\"1\" class=\"dataframe\">\n",
       "  <thead>\n",
       "    <tr style=\"text-align: right;\">\n",
       "      <th></th>\n",
       "      <th>faixa_etaria</th>\n",
       "      <th>total_vacinados</th>\n",
       "    </tr>\n",
       "  </thead>\n",
       "  <tbody>\n",
       "    <tr>\n",
       "      <th>0</th>\n",
       "      <td>40-49</td>\n",
       "      <td>29316</td>\n",
       "    </tr>\n",
       "    <tr>\n",
       "      <th>1</th>\n",
       "      <td>70+</td>\n",
       "      <td>25681</td>\n",
       "    </tr>\n",
       "    <tr>\n",
       "      <th>2</th>\n",
       "      <td>50-59</td>\n",
       "      <td>8094</td>\n",
       "    </tr>\n",
       "    <tr>\n",
       "      <th>3</th>\n",
       "      <td>30-39</td>\n",
       "      <td>5698</td>\n",
       "    </tr>\n",
       "    <tr>\n",
       "      <th>4</th>\n",
       "      <td>60-69</td>\n",
       "      <td>3831</td>\n",
       "    </tr>\n",
       "  </tbody>\n",
       "</table>\n",
       "</div>"
      ],
      "text/plain": [
       "  faixa_etaria  total_vacinados\n",
       "0        40-49            29316\n",
       "1          70+            25681\n",
       "2        50-59             8094\n",
       "3        30-39             5698\n",
       "4        60-69             3831"
      ]
     },
     "execution_count": 7,
     "metadata": {},
     "output_type": "execute_result"
    }
   ],
   "source": [
    "# CONSULTANDO DISTRIBUIÇÃO DE VACINADOS POR FAIXA ETARIA\n",
    "\n",
    "query = '''\n",
    "SELECT \n",
    "    CASE \n",
    "        WHEN \"idade (anos)\" BETWEEN 0 AND 17 THEN 'Menor de 18'\n",
    "        WHEN \"idade (anos)\" BETWEEN 18 AND 29 THEN '18-29'\n",
    "        WHEN \"idade (anos)\" BETWEEN 30 AND 39 THEN '30-39'\n",
    "        WHEN \"idade (anos)\" BETWEEN 40 AND 49 THEN '40-49'\n",
    "        WHEN \"idade (anos)\" BETWEEN 50 AND 59 THEN '50-59'\n",
    "        WHEN \"idade (anos)\" BETWEEN 60 AND 69 THEN '60-69'\n",
    "        ELSE '70+' \n",
    "    END AS faixa_etaria,\n",
    "    COUNT(*) AS total_vacinados\n",
    "FROM analytics.pessoas_vacinadas\n",
    "GROUP BY faixa_etaria\n",
    "ORDER BY total_vacinados DESC \n",
    "'''\n",
    "get_dataframe(query).head()"
   ]
  },
  {
   "cell_type": "markdown",
   "id": "f39f0d4f",
   "metadata": {},
   "source": [
    "Insight: A faixa 40–49 anos representa o maior número absoluto de vacinados (29.316), superando até a faixa de 70+ (25.681), que seria normalmente priorizada por estar em maior risco.\n",
    "\n",
    "Possíveis interpretações:\n",
    "- Demografia local: Pode haver mais pessoas entre 40–49 anos na população da sua área do que acima de 70 anos — o que faria sentido em muitos contextos populacionais, especialmente em países mais jovens como o Brasil.\n",
    "\n",
    "- Maior adesão à vacinação entre adultos ativos: Indivíduos de 40–49 anos podem ter maior consciência da importância da vacinação, acesso facilitado (por trabalharem ou terem mais mobilidade), ou exigência de vacinação para trabalho.\n",
    "\n",
    "- Barreiras para os idosos: A faixa de 70+ pode ter enfrentado obstáculos logísticos, como dificuldades de locomoção, problemas de agendamento digital ou hesitação vacinal."
   ]
  },
  {
   "cell_type": "markdown",
   "id": "201b2518",
   "metadata": {},
   "source": []
  }
 ],
 "metadata": {
  "kernelspec": {
   "display_name": "Python 3",
   "language": "python",
   "name": "python3"
  },
  "language_info": {
   "codemirror_mode": {
    "name": "ipython",
    "version": 3
   },
   "file_extension": ".py",
   "mimetype": "text/x-python",
   "name": "python",
   "nbconvert_exporter": "python",
   "pygments_lexer": "ipython3",
   "version": "3.11.4"
  }
 },
 "nbformat": 4,
 "nbformat_minor": 5
}
