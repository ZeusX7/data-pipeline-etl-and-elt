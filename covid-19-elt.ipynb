{
 "cells": [
  {
   "cell_type": "markdown",
   "id": "19d50a76",
   "metadata": {},
   "source": [
    "## Extração"
   ]
  },
  {
   "cell_type": "code",
   "execution_count": null,
   "id": "f856ffd9",
   "metadata": {},
   "outputs": [],
   "source": [
    "# import de libs necessárias para o processo de data cleaning\n",
    "\n",
    "import numpy as np\n",
    "import pandas as pd\n",
    "import zipfile\n",
    "import os\n",
    "from datetime import datetime\n",
    "import urllib.request\n",
    "import json\n",
    "import pandas as pd\n",
    "import csv\n",
    "import io"
   ]
  },
  {
   "cell_type": "code",
   "execution_count": null,
   "id": "383bd4df",
   "metadata": {},
   "outputs": [],
   "source": [
    "# armazenando os ids de cada arquivo que serão baixados posteriormente\n",
    "files_ids = [\"99b42b09-95af-47de-8411-ab99c380c3ef\",\n",
    "             \"9664de94-9f07-4adc-848d-b6ef56510762\",\n",
    "             \"bceb5759-5500-49db-bc86-b038892acc06\",\n",
    "             \"ca7fb968-3a2c-44ff-a2e8-730d1a689407\",\n",
    "              \"c675899c-69d9-4dc8-bb11-00afc9636a3b\"]"
   ]
  },
  {
   "cell_type": "code",
   "execution_count": null,
   "id": "a3864eaa",
   "metadata": {},
   "outputs": [],
   "source": [
    "# Diretório onde o dataset será salvo\n",
    "dataset_dir = \"datasets\"\n",
    "os.makedirs(dataset_dir, exist_ok=True)\n",
    "\n",
    "try:\n",
    "    # URL direta do arquivo JSON\n",
    "    for fileId in files_ids:\n",
    "        url = f'http://dados.recife.pe.gov.br/datastore/dump/{fileId}?format=json'\n",
    "        # Nome do arquivo de saída\n",
    "        output_path = os.path.join(dataset_dir, f\"{fileId}.json\")\n",
    "        try:\n",
    "            print(\"Baixando arquivo JSON...\")\n",
    "            urllib.request.urlretrieve(url, output_path)\n",
    "            print(f\"Arquivo salvo em: {output_path}\")\n",
    "        except Exception as e:\n",
    "            print(f\"Erro ao baixar o arquivo: {e}\")\n",
    "    print(\"Todos os downloads foram concluídos com sucesso!\")\n",
    "except Exception as e:\n",
    "    pass\n"
   ]
  }
 ],
 "metadata": {
  "language_info": {
   "name": "python"
  }
 },
 "nbformat": 4,
 "nbformat_minor": 5
}
