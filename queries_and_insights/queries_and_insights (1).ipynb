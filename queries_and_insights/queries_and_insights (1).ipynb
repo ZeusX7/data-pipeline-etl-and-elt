{
  "cells": [
    {
      "cell_type": "code",
      "execution_count": 1,
      "id": "af34a644",
      "metadata": {
        "id": "af34a644"
      },
      "outputs": [],
      "source": [
        "import json\n",
        "import pandas as pd\n",
        "from sqlalchemy import create_engine"
      ]
    },
    {
      "cell_type": "code",
      "execution_count": 2,
      "id": "f216848c",
      "metadata": {
        "colab": {
          "base_uri": "https://localhost:8080/",
          "height": 211
        },
        "id": "f216848c",
        "outputId": "df576f80-5642-47a4-f448-bf4bfe95f442"
      },
      "outputs": [
        {
          "output_type": "error",
          "ename": "FileNotFoundError",
          "evalue": "[Errno 2] No such file or directory: '../config.json'",
          "traceback": [
            "\u001b[0;31m---------------------------------------------------------------------------\u001b[0m",
            "\u001b[0;31mFileNotFoundError\u001b[0m                         Traceback (most recent call last)",
            "\u001b[0;32m/tmp/ipython-input-4042332413.py\u001b[0m in \u001b[0;36m<cell line: 0>\u001b[0;34m()\u001b[0m\n\u001b[1;32m      3\u001b[0m \u001b[0;34m\u001b[0m\u001b[0m\n\u001b[1;32m      4\u001b[0m \u001b[0;31m# Carregar configurações de conexão\u001b[0m\u001b[0;34m\u001b[0m\u001b[0;34m\u001b[0m\u001b[0m\n\u001b[0;32m----> 5\u001b[0;31m \u001b[0;32mwith\u001b[0m \u001b[0mopen\u001b[0m\u001b[0;34m(\u001b[0m\u001b[0;34m'../config.json'\u001b[0m\u001b[0;34m,\u001b[0m \u001b[0;34m'r'\u001b[0m\u001b[0;34m)\u001b[0m \u001b[0;32mas\u001b[0m \u001b[0mconfig_file\u001b[0m\u001b[0;34m:\u001b[0m\u001b[0;34m\u001b[0m\u001b[0;34m\u001b[0m\u001b[0m\n\u001b[0m\u001b[1;32m      6\u001b[0m     \u001b[0mconfig\u001b[0m \u001b[0;34m=\u001b[0m \u001b[0mjson\u001b[0m\u001b[0;34m.\u001b[0m\u001b[0mload\u001b[0m\u001b[0;34m(\u001b[0m\u001b[0mconfig_file\u001b[0m\u001b[0;34m)\u001b[0m\u001b[0;34m\u001b[0m\u001b[0;34m\u001b[0m\u001b[0m\n\u001b[1;32m      7\u001b[0m \u001b[0;34m\u001b[0m\u001b[0m\n",
            "\u001b[0;31mFileNotFoundError\u001b[0m: [Errno 2] No such file or directory: '../config.json'"
          ]
        }
      ],
      "source": [
        "# Conectar ao banco covid_etl\n",
        "\n",
        "\n",
        "# Carregar configurações de conexão\n",
        "with open('../config.json', 'r') as config_file:\n",
        "    config = json.load(config_file)\n",
        "\n",
        "# Criar engine SQLAlchemy\n",
        "engine = create_engine(\n",
        "    f'postgresql+psycopg2://{config[\"user\"]}:{config[\"password\"]}@{config[\"host\"]}:{config[\"port\"]}/covid_etl'\n",
        ")\n"
      ]
    },
    {
      "cell_type": "code",
      "execution_count": null,
      "id": "21cc7a0c",
      "metadata": {
        "id": "21cc7a0c"
      },
      "outputs": [],
      "source": [
        "# criando função que fará as consultas e retorna o dataframe\n",
        "def get_dataframe(query):\n",
        "    df = pd.read_sql(query, engine)\n",
        "    return df\n"
      ]
    },
    {
      "cell_type": "code",
      "execution_count": null,
      "id": "d1c68677",
      "metadata": {
        "id": "d1c68677"
      },
      "outputs": [],
      "source": [
        "# CONSULTANDO QUANTAS PESSOAS TOMARAM DOSE INFANTIL (PEDIÁTRICA) RELACIONANDO COM VACINA_LOTE\n",
        "query = '''\n",
        "SELECT\n",
        "    \"idade (anos)\", grupo, data_vacinacao, fabricante\n",
        "FROM analytics.pessoas_vacinadas pv\n",
        "JOIN analytics.vacina_lote vl ON pv.lote = vl.lote\n",
        "WHERE vl.pediatrica = TRUE and pv.\"idade (anos)\" > 13;\n",
        "'''\n",
        "get_dataframe(query).head()"
      ]
    },
    {
      "cell_type": "code",
      "execution_count": null,
      "id": "89011b09",
      "metadata": {
        "id": "89011b09"
      },
      "outputs": [],
      "source": [
        "# CONSULTANDO QUANTAS PESSOAS TOMARAM DOSE INFANTIL (PEDIÁTRICA) RELACIONANDO COM VACINA_LOTE\n",
        "query = '''\n",
        "SELECT\n",
        "  COUNT(*) AS total_vacinados_pediatrica,\n",
        "  SUM(CASE WHEN pv.\"idade (anos)\" <= 13 THEN 1 ELSE 0 END) AS total_criancas,\n",
        "  SUM(CASE WHEN pv.\"idade (anos)\" > 13 THEN 1 ELSE 0 END) AS total_nao_criancas,\n",
        "  ROUND(\n",
        "    100.0 * SUM(CASE WHEN pv.\"idade (anos)\" <= 13 THEN 1 ELSE 0 END) / COUNT(*),\n",
        "    2\n",
        "  ) AS percentual_criancas\n",
        "FROM analytics.pessoas_vacinadas pv\n",
        "JOIN analytics.vacina_lote vl ON pv.lote = vl.lote\n",
        "WHERE vl.pediatrica = TRUE;\n",
        "'''\n",
        "get_dataframe(query).head()"
      ]
    },
    {
      "cell_type": "markdown",
      "id": "ff877ec3",
      "metadata": {
        "id": "ff877ec3"
      },
      "source": [
        "Insight: Doses pediátricas foram registradas como aplicadas em adultos, indicando possível erro de registro ou classificação de lote.\n",
        "\n",
        "-  Mais de 70% das doses pediátricas foram aplicadas em pessoas fora da faixa etária infantil\n",
        "\n",
        "- Dos 42 registros de vacinas pediátricas, apenas 12 foram aplicados em crianças (≤13 anos), o que representa 28,57% do total. Os outros 30 registros (71,43%) correspondem a pessoas com mais de 13 anos, o que indica uma inconsistência relevante no uso ou registro dos lotes pediátricos.\n",
        "\n",
        "- A análise identificou que doses classificadas como pediátricas (pediatrica = TRUE) foram aplicadas em pessoas com mais de 13 anos, incluindo adultos com idades entre 28 e 60 anos. Isso é incompatível com a indicação da vacina pediátrica, que é destinada a crianças, normalmente até 11 ou 12 anos."
      ]
    },
    {
      "cell_type": "code",
      "execution_count": null,
      "id": "b4ae03fc",
      "metadata": {
        "id": "b4ae03fc"
      },
      "outputs": [],
      "source": [
        "# CONSULTANDO PERCENTUAL DE VACINADOS POR SEXO\n",
        "query = '''\n",
        "SELECT\n",
        "    sexo,\n",
        "    COUNT(*) AS total,\n",
        "    ROUND(100.0 * COUNT(*) / SUM(COUNT(*)) OVER (), 2) AS percentual\n",
        "FROM analytics.pessoas_vacinadas\n",
        "GROUP BY sexo\n",
        "'''\n",
        "get_dataframe(query).head()"
      ]
    },
    {
      "cell_type": "markdown",
      "id": "cb246b91",
      "metadata": {
        "id": "cb246b91"
      },
      "source": [
        "Insight: A distribuição por sexo entre os vacinados está dentro do esperado, com leve predominância feminina.\n",
        "- Mulheres representam 50,85% dos vacinados, enquanto homens representam 49,03%, o que configura uma distribuição equilibrada e dentro da normalidade. Esse leve predomínio feminino é comum em campanhas de vacinação, refletindo tanto a maior presença de mulheres em setores essenciais quanto uma tendência histórica de maior adesão à saúde preventiva.\n",
        "\n",
        "- O percentual de registros em branco ou com classificação \"OUTROS\" é muito baixo (apenas 0,12%), o que indica boa qualidade na coleta dos dados de sexo."
      ]
    },
    {
      "cell_type": "code",
      "execution_count": null,
      "id": "8c023f0a",
      "metadata": {
        "id": "8c023f0a"
      },
      "outputs": [],
      "source": [
        "# CONSULTANDO DISTRIBUIÇÃO DE VACINADOS POR FAIXA ETARIA\n",
        "\n",
        "query = '''\n",
        "SELECT\n",
        "    CASE\n",
        "        WHEN \"idade (anos)\" BETWEEN 0 AND 17 THEN 'Menor de 18'\n",
        "        WHEN \"idade (anos)\" BETWEEN 18 AND 29 THEN '18-29'\n",
        "        WHEN \"idade (anos)\" BETWEEN 30 AND 39 THEN '30-39'\n",
        "        WHEN \"idade (anos)\" BETWEEN 40 AND 49 THEN '40-49'\n",
        "        WHEN \"idade (anos)\" BETWEEN 50 AND 59 THEN '50-59'\n",
        "        WHEN \"idade (anos)\" BETWEEN 60 AND 69 THEN '60-69'\n",
        "        ELSE '70+'\n",
        "    END AS faixa_etaria,\n",
        "    COUNT(*) AS total_vacinados\n",
        "FROM analytics.pessoas_vacinadas\n",
        "GROUP BY faixa_etaria\n",
        "ORDER BY total_vacinados DESC\n",
        "'''\n",
        "get_dataframe(query).head()"
      ]
    },
    {
      "cell_type": "markdown",
      "id": "f39f0d4f",
      "metadata": {
        "id": "f39f0d4f"
      },
      "source": [
        "Insight: A faixa 40–49 anos representa o maior número absoluto de vacinados (29.316), superando até a faixa de 70+ (25.681), que seria normalmente priorizada por estar em maior risco.\n",
        "\n",
        "Possíveis interpretações:\n",
        "- Demografia local: Pode haver mais pessoas entre 40–49 anos na população da sua área do que acima de 70 anos — o que faria sentido em muitos contextos populacionais, especialmente em países mais jovens como o Brasil.\n",
        "\n",
        "- Maior adesão à vacinação entre adultos ativos: Indivíduos de 40–49 anos podem ter maior consciência da importância da vacinação, acesso facilitado (por trabalharem ou terem mais mobilidade), ou exigência de vacinação para trabalho.\n",
        "\n",
        "- Barreiras para os idosos: A faixa de 70+ pode ter enfrentado obstáculos logísticos, como dificuldades de locomoção, problemas de agendamento digital ou hesitação vacinal."
      ]
    },
    {
      "cell_type": "markdown",
      "id": "201b2518",
      "metadata": {
        "id": "201b2518"
      },
      "source": []
    },
    {
      "cell_type": "code",
      "source": [
        "# CONSULTANDO O TOTAL DE DOSES APLICADAS POR FABRICANTE DE VACINA\n",
        "query = '''\n",
        "SELECT\n",
        "    vl.fabricante,\n",
        "    COUNT(*) AS total_doses,\n",
        "    ROUND(100.0 * COUNT(*) / SUM(COUNT(*)) OVER (), 2) AS percentual\n",
        "FROM\n",
        "    analytics.pessoas_vacinadas pv\n",
        "JOIN\n",
        "    analytics.vacina_lote vl ON pv.lote = vl.lote\n",
        "GROUP BY\n",
        "    vl.fabricante\n",
        "ORDER BY\n",
        "    total_doses DESC;\n",
        "'''\n",
        "get_dataframe(query).head()"
      ],
      "metadata": {
        "id": "XDv77HYjNHT0"
      },
      "id": "XDv77HYjNHT0",
      "execution_count": null,
      "outputs": []
    },
    {
      "cell_type": "markdown",
      "source": [
        "Insight: Predominância de um Fabricante e a Estratégia de Vacinação\n",
        "A análise dos dados por fabricante revela qual imunizante foi o pilar da campanha de vacinação nesta base de dados. O resultado desta consulta permite observar:\n",
        "\n",
        "- Concentração de Fornecedor: É possível que um único fabricante (como PFIZER, ASTRAZENECA, etc.) seja responsável por uma parcela majoritária das doses aplicadas. Isso pode indicar uma dependência de um fornecedor específico, seja por contratos de maior volume, disponibilidade logística ou por ter sido a primeira vacina a chegar em grande quantidade.\n",
        "\n",
        "- Diversificação da Campanha: Se os percentuais forem bem distribuídos entre vários fabricantes, isso sugere uma estratégia de diversificação na aquisição de vacinas, o que pode mitigar riscos de falta de suprimento e atender a diferentes públicos ou recomendações de saúde.\n",
        "\n",
        "- Validação de Dados: Esta visão também serve como uma validação cruzada. Por exemplo, se um fabricante que só produz vacinas para adultos aparecer em registros de crianças (ou vice-versa), isso reforçaria a suspeita de erros no registro dos lotes, como já foi observado na primeira análise sobre as doses pediátricas.\n",
        "\n",
        "Em suma, este insight mapeia a \"espinha dorsal\" da campanha de vacinação, mostrando quais vacinas foram mais acessíveis e utilizadas pela população registrada."
      ],
      "metadata": {
        "id": "kwaFGPDqQy80"
      },
      "id": "kwaFGPDqQy80"
    }
  ],
  "metadata": {
    "kernelspec": {
      "display_name": "Python 3",
      "language": "python",
      "name": "python3"
    },
    "language_info": {
      "codemirror_mode": {
        "name": "ipython",
        "version": 3
      },
      "file_extension": ".py",
      "mimetype": "text/x-python",
      "name": "python",
      "nbconvert_exporter": "python",
      "pygments_lexer": "ipython3",
      "version": "3.11.4"
    },
    "colab": {
      "provenance": []
    }
  },
  "nbformat": 4,
  "nbformat_minor": 5
}